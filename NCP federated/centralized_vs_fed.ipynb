{
 "cells": [
  {
   "cell_type": "code",
   "execution_count": 1,
   "metadata": {},
   "outputs": [],
   "source": [
    "import os\n",
    "os.environ['TF_CPP_MIN_LOG_LEVEL'] = '3'\n",
    "os.environ['TF_ENABLE_ONEDNN_OPTS'] = '0'"
   ]
  },
  {
   "cell_type": "code",
   "execution_count": 2,
   "metadata": {},
   "outputs": [],
   "source": [
    "import numpy as np\n",
    "import pandas as pd\n",
    "import tensorflow as tf\n",
    "import matplotlib.pyplot as plt\n",
    "import seaborn as sns"
   ]
  },
  {
   "cell_type": "markdown",
   "metadata": {},
   "source": [
    "# Training\n",
    "---"
   ]
  },
  {
   "cell_type": "markdown",
   "metadata": {},
   "source": [
    "## Centralized model"
   ]
  },
  {
   "cell_type": "markdown",
   "metadata": {},
   "source": [
    "Load data from a chosen machine."
   ]
  },
  {
   "cell_type": "code",
   "execution_count": 3,
   "metadata": {},
   "outputs": [],
   "source": [
    "from utils import timesteps, train_percentage, getClientData, getTrainAndTestData\n",
    "\n",
    "machine = 'Compressore 3'\n",
    "data = getClientData(machine)\n",
    "X_train, y_train, _, _, _ = getTrainAndTestData(data)"
   ]
  },
  {
   "cell_type": "markdown",
   "metadata": {},
   "source": [
    "Load and train the model."
   ]
  },
  {
   "cell_type": "code",
   "execution_count": 4,
   "metadata": {},
   "outputs": [
    {
     "name": "stdout",
     "output_type": "stream",
     "text": [
      "Epoch 1/50\n",
      "193/193 [==============================] - 4s 12ms/step - loss: 0.2687 - mse: 0.2687\n",
      "Epoch 2/50\n",
      "193/193 [==============================] - 2s 12ms/step - loss: 0.1129 - mse: 0.1129\n",
      "Epoch 3/50\n",
      "193/193 [==============================] - 2s 12ms/step - loss: 0.0948 - mse: 0.0948\n",
      "Epoch 4/50\n",
      "193/193 [==============================] - 2s 12ms/step - loss: 0.0840 - mse: 0.0840\n",
      "Epoch 5/50\n",
      "193/193 [==============================] - 2s 13ms/step - loss: 0.0798 - mse: 0.0798\n",
      "Epoch 6/50\n",
      "193/193 [==============================] - 2s 13ms/step - loss: 0.0648 - mse: 0.0648\n",
      "Epoch 7/50\n",
      "193/193 [==============================] - 2s 12ms/step - loss: 0.0498 - mse: 0.0498\n",
      "Epoch 8/50\n",
      "193/193 [==============================] - 2s 12ms/step - loss: 0.0406 - mse: 0.0406\n",
      "Epoch 9/50\n",
      "193/193 [==============================] - 2s 13ms/step - loss: 0.0360 - mse: 0.0360\n",
      "Epoch 10/50\n",
      "193/193 [==============================] - 2s 12ms/step - loss: 0.0326 - mse: 0.0326\n",
      "Epoch 11/50\n",
      "193/193 [==============================] - 3s 13ms/step - loss: 0.0291 - mse: 0.0291\n",
      "Epoch 12/50\n",
      "193/193 [==============================] - 3s 13ms/step - loss: 0.0278 - mse: 0.0278\n",
      "Epoch 13/50\n",
      "193/193 [==============================] - 3s 13ms/step - loss: 0.0260 - mse: 0.0260\n",
      "Epoch 14/50\n",
      "193/193 [==============================] - 2s 11ms/step - loss: 0.0259 - mse: 0.0259\n",
      "Epoch 15/50\n",
      "193/193 [==============================] - 2s 13ms/step - loss: 0.0241 - mse: 0.0241\n",
      "Epoch 16/50\n",
      "193/193 [==============================] - 2s 12ms/step - loss: 0.0224 - mse: 0.0224\n",
      "Epoch 17/50\n",
      "193/193 [==============================] - 2s 13ms/step - loss: 0.0229 - mse: 0.0229\n",
      "Epoch 18/50\n",
      "193/193 [==============================] - 2s 12ms/step - loss: 0.0225 - mse: 0.0225\n",
      "Epoch 19/50\n",
      "193/193 [==============================] - 2s 12ms/step - loss: 0.0218 - mse: 0.0218\n",
      "Epoch 20/50\n",
      "193/193 [==============================] - 3s 14ms/step - loss: 0.0217 - mse: 0.0217\n",
      "Epoch 21/50\n",
      "193/193 [==============================] - 3s 13ms/step - loss: 0.0207 - mse: 0.0207\n",
      "Epoch 22/50\n",
      "193/193 [==============================] - 3s 13ms/step - loss: 0.0195 - mse: 0.0195\n",
      "Epoch 23/50\n",
      "193/193 [==============================] - 2s 13ms/step - loss: 0.0194 - mse: 0.0194\n",
      "Epoch 24/50\n",
      "193/193 [==============================] - 2s 12ms/step - loss: 0.0193 - mse: 0.0193\n",
      "Epoch 25/50\n",
      "193/193 [==============================] - 2s 11ms/step - loss: 0.0192 - mse: 0.0192\n",
      "Epoch 26/50\n",
      "193/193 [==============================] - 2s 12ms/step - loss: 0.0186 - mse: 0.0186\n",
      "Epoch 27/50\n",
      "193/193 [==============================] - 2s 13ms/step - loss: 0.0179 - mse: 0.0179\n",
      "Epoch 28/50\n",
      "193/193 [==============================] - 2s 12ms/step - loss: 0.0180 - mse: 0.0180\n",
      "Epoch 29/50\n",
      "193/193 [==============================] - 2s 11ms/step - loss: 0.0170 - mse: 0.0170\n",
      "Epoch 30/50\n",
      "193/193 [==============================] - 2s 11ms/step - loss: 0.0173 - mse: 0.0173\n",
      "Epoch 31/50\n",
      "193/193 [==============================] - 2s 10ms/step - loss: 0.0173 - mse: 0.0173\n",
      "Epoch 32/50\n",
      "193/193 [==============================] - 2s 12ms/step - loss: 0.0173 - mse: 0.0173\n",
      "Epoch 33/50\n",
      "193/193 [==============================] - 3s 13ms/step - loss: 0.0169 - mse: 0.0169\n",
      "Epoch 34/50\n",
      "193/193 [==============================] - 2s 13ms/step - loss: 0.0163 - mse: 0.0163\n",
      "Epoch 35/50\n",
      "193/193 [==============================] - 2s 12ms/step - loss: 0.0163 - mse: 0.0163\n",
      "Epoch 36/50\n",
      "193/193 [==============================] - 2s 12ms/step - loss: 0.0168 - mse: 0.0168\n",
      "Epoch 37/50\n",
      "193/193 [==============================] - 2s 11ms/step - loss: 0.0162 - mse: 0.0162\n",
      "Epoch 38/50\n",
      "193/193 [==============================] - 3s 13ms/step - loss: 0.0155 - mse: 0.0155\n",
      "Epoch 39/50\n",
      "193/193 [==============================] - 3s 13ms/step - loss: 0.0162 - mse: 0.0162\n",
      "Epoch 40/50\n",
      "193/193 [==============================] - 3s 14ms/step - loss: 0.0157 - mse: 0.0157\n",
      "Epoch 41/50\n",
      "193/193 [==============================] - 3s 14ms/step - loss: 0.0156 - mse: 0.0156\n",
      "Epoch 42/50\n",
      "193/193 [==============================] - 3s 13ms/step - loss: 0.0157 - mse: 0.0157\n",
      "Epoch 43/50\n",
      "193/193 [==============================] - 3s 13ms/step - loss: 0.0154 - mse: 0.0154\n",
      "Epoch 44/50\n",
      "193/193 [==============================] - 2s 12ms/step - loss: 0.0154 - mse: 0.0154\n",
      "Epoch 45/50\n",
      "193/193 [==============================] - 2s 10ms/step - loss: 0.0158 - mse: 0.0158\n",
      "Epoch 46/50\n",
      "193/193 [==============================] - 2s 11ms/step - loss: 0.0151 - mse: 0.0151\n",
      "Epoch 47/50\n",
      "193/193 [==============================] - 2s 12ms/step - loss: 0.0148 - mse: 0.0148\n",
      "Epoch 48/50\n",
      "193/193 [==============================] - 2s 11ms/step - loss: 0.0154 - mse: 0.0154\n",
      "Epoch 49/50\n",
      "193/193 [==============================] - 2s 11ms/step - loss: 0.0150 - mse: 0.0150\n",
      "Epoch 50/50\n",
      "193/193 [==============================] - 2s 11ms/step - loss: 0.0150 - mse: 0.0150\n"
     ]
    }
   ],
   "source": [
    "from models import ncp\n",
    "from utils import batch_size, num_epochs\n",
    "\n",
    "ncp_c, _ = ncp()\n",
    "hist_cen = ncp_c.fit(x=X_train, y=y_train, batch_size=batch_size, epochs=num_epochs, verbose=1)"
   ]
  },
  {
   "cell_type": "markdown",
   "metadata": {},
   "source": [
    "## Federated model"
   ]
  },
  {
   "cell_type": "markdown",
   "metadata": {},
   "source": [
    "Load the model and its weights."
   ]
  },
  {
   "cell_type": "code",
   "execution_count": 5,
   "metadata": {},
   "outputs": [],
   "source": [
    "ncp_f, _ = ncp()\n",
    "weights_ncp_npz = np.load(\"weights_ncp.npz\")\n",
    "weights_ncp = [weights_ncp_npz[f\"arr_{i}\"] for i in range(len(weights_ncp_npz.files))]\n",
    "ncp_f.set_weights(weights_ncp)"
   ]
  },
  {
   "cell_type": "markdown",
   "metadata": {},
   "source": [
    "# Comparison\n",
    "---"
   ]
  },
  {
   "cell_type": "code",
   "execution_count": 6,
   "metadata": {},
   "outputs": [],
   "source": [
    "train_size = X_train.shape[0]   # Number of training samples\n",
    "timestamps = data.index.values  # Timestamps\n",
    "\n",
    "measurements = [\n",
    "  'Current (A)',\n",
    "  'CosPhi (Units)',\n",
    "  'Energy Consumption (kWh)',\n",
    "  'Reactive Energy (VARh)',\n",
    "  'Voltage (V)']"
   ]
  },
  {
   "cell_type": "markdown",
   "metadata": {},
   "source": [
    "Load test data from all machines."
   ]
  },
  {
   "cell_type": "code",
   "execution_count": 7,
   "metadata": {},
   "outputs": [],
   "source": [
    "machines = [\"Compressore 1\", \"Compressore 2\", \"Compressore 3\", \"Compressore 4\"]\n",
    "\n",
    "data = {}\n",
    "for machine in machines:\n",
    "  data[machine] = getClientData(machine)\n",
    "\n",
    "X_test = {}\n",
    "y_test = {}\n",
    "scaler = {}\n",
    "\n",
    "for machine in machines:\n",
    "    _, _, X_test[machine], y_test[machine], scaler[machine] = getTrainAndTestData(data[machine])"
   ]
  },
  {
   "cell_type": "markdown",
   "metadata": {},
   "source": [
    "Make predictions with the **centralized model**."
   ]
  },
  {
   "cell_type": "code",
   "execution_count": 8,
   "metadata": {},
   "outputs": [
    {
     "name": "stdout",
     "output_type": "stream",
     "text": [
      "26/26 [==============================] - 0s 5ms/step\n",
      "26/26 [==============================] - 0s 5ms/step\n",
      "26/26 [==============================] - 0s 6ms/step\n",
      "26/26 [==============================] - 0s 3ms/step\n"
     ]
    }
   ],
   "source": [
    "y_cen = {}\n",
    "for machine in machines:\n",
    "    y_cen[machine] = ncp_c.predict(X_test[machine])"
   ]
  },
  {
   "cell_type": "markdown",
   "metadata": {},
   "source": [
    "Make predictions with the **federated model**."
   ]
  },
  {
   "cell_type": "code",
   "execution_count": 9,
   "metadata": {},
   "outputs": [
    {
     "name": "stdout",
     "output_type": "stream",
     "text": [
      "26/26 [==============================] - 0s 4ms/step\n",
      "26/26 [==============================] - 0s 3ms/step\n",
      "26/26 [==============================] - 0s 3ms/step\n",
      "26/26 [==============================] - 0s 4ms/step\n"
     ]
    }
   ],
   "source": [
    "y_fed = {}\n",
    "for machine in machines:\n",
    "    y_fed[machine] = ncp_f.predict(X_test[machine])"
   ]
  },
  {
   "cell_type": "markdown",
   "metadata": {},
   "source": [
    "Compute the average MSE for each test dataset."
   ]
  },
  {
   "cell_type": "code",
   "execution_count": 10,
   "metadata": {},
   "outputs": [
    {
     "name": "stdout",
     "output_type": "stream",
     "text": [
      "MSE Centralized\n",
      "[0.006929355346093554, 0.01433024445536952, 0.0161923686025133, 0.021589934193233618]\n",
      "MSE Federated\n",
      "[0.005503972957410262, 0.007915506217056688, 0.01358776172718312, 0.014789443061964365]\n"
     ]
    }
   ],
   "source": [
    "mse_cen = []\n",
    "mse_fed = []\n",
    "\n",
    "for i in range(len(machines)):\n",
    "    mse_cen.append(np.mean(np.square(y_test[machines[i]] - y_cen[machines[i]])))\n",
    "    mse_fed.append(np.mean(np.square(y_test[machines[i]] - y_fed[machines[i]])))\n",
    "\n",
    "print(\"MSE Centralized\")\n",
    "print(mse_cen)\n",
    "print(\"MSE Federated\")\n",
    "print(mse_fed)"
   ]
  },
  {
   "cell_type": "markdown",
   "metadata": {},
   "source": [
    "Plot the average MSEs into an histogram."
   ]
  },
  {
   "cell_type": "code",
   "execution_count": 12,
   "metadata": {},
   "outputs": [
    {
     "data": {
      "image/png": "[encoded data removed]",
      "text/plain": [
       "<Figure size 1500x500 with 1 Axes>"
      ]
     },
     "metadata": {},
     "output_type": "display_data"
    }
   ],
   "source": [
    "plt.figure(figsize=(15, 5))\n",
    "plt.bar(np.arange(len(machines)) - 0.2, mse_cen, 0.4, label = 'Centralized (trained on \"Compressore 3\")') \n",
    "plt.bar(np.arange(len(machines)) + 0.2, mse_fed, 0.4, label = 'Federated') \n",
    "plt.xticks(np.arange(len(machines)), machines) \n",
    "plt.legend() \n",
    "plt.show() "
   ]
  }
 ],
 "metadata": {
  "kernelspec": {
   "display_name": "Python 3 (ipykernel)",
   "language": "python",
   "name": "python3"
  },
  "language_info": {
   "codemirror_mode": {
    "name": "ipython",
    "version": 3
   },
   "file_extension": ".py",
   "mimetype": "text/x-python",
   "name": "python",
   "nbconvert_exporter": "python",
   "pygments_lexer": "ipython3",
   "version": "3.10.15"
  }
 },
 "nbformat": 4,
 "nbformat_minor": 4
}
